{
 "cells": [
  {
   "cell_type": "code",
   "execution_count": 2,
   "metadata": {},
   "outputs": [],
   "source": [
    "import numpy as np\n",
    "import matplotlib.pyplot as plt\n",
    "\n",
    "from QKDfunctions import *\n",
    "\n",
    "from qiskit import execute, QuantumCircuit, QuantumRegister, ClassicalRegister, BasicAer, Aer\n",
    "from qiskit.tools.visualization import circuit_drawer, plot_histogram\n",
    "from qiskit.circuit import Parameter\n",
    "from qiskit.extensions import IdGate\n",
    "from qiskit.providers.aer.noise import NoiseModel, errors\n",
    "\n",
    "from IPython.display import display, Math, Latex, clear_output"
   ]
  },
  {
   "cell_type": "markdown",
   "metadata": {},
   "source": [
    "# Three party protocol\n",
    "## Table of Contents:\n",
    "* [Introduction & Theory](#intro)\n",
    "* [Plain protocol](#protocol)\n",
    "* [Working protocol with Eavesdropper](#eve)\n",
    "* [Protocol on NV with Noise](#noise)\n"
   ]
  },
  {
   "cell_type": "markdown",
   "metadata": {},
   "source": [
    "## Introduction & Theory <a class=\"anchor\" id=\"intro\"></a>\n",
    "\n",
    "This protocol can distribute the same key among three parties. It works by sending four qubits to a central measurer (M). Each qubit is either in the 01 or +- basis. This means one participant sends two qubits. M performs a measurement that projects the qubits in such a way that for certain combinations of bases, the result shows which bits need to be flipped to ensure that everyone has the same. Note that it does not reveal what the bits are, so no information about the actual key is revealed. This is also where the fourth bit comes in. By comparing the last two bits of the measurement result, and knowing which bases have been used, the three parties can see whose bit needs to be flipped. This works when bits are send either all in the 01 basis, all in the +- basis or the first and last in the same and the middle two in the other basis. The measurement circuit shown below."
   ]
  },
  {
   "cell_type": "code",
   "execution_count": 6,
   "metadata": {},
   "outputs": [
    {
     "data": {
      "image/png": "[encoded data removed]",
      "text/plain": [
       "<Figure size 468.356x264.88 with 1 Axes>"
      ]
     },
     "metadata": {},
     "output_type": "display_data"
    },
    {
     "data": {
      "text/latex": [
       "$\\displaystyle \\mathrm{running\\ circuit\\ on\\ set\\ of\\ basis\\ states:}$"
      ],
      "text/plain": [
       "<IPython.core.display.Math object>"
      ]
     },
     "metadata": {},
     "output_type": "display_data"
    },
    {
     "data": {
      "text/latex": [
       "$\\displaystyle \\left\\lvert0000\\right\\rangle\\mathrm{transforms\\ to}: +0.5\\left\\lvert 0000\\right\\rangle +0.5\\left\\lvert 0001\\right\\rangle +0.5\\left\\lvert 0010\\right\\rangle +0.5\\left\\lvert 0011\\right\\rangle $"
      ],
      "text/plain": [
       "<IPython.core.display.Math object>"
      ]
     },
     "metadata": {},
     "output_type": "display_data"
    },
    {
     "data": {
      "text/latex": [
       "$\\displaystyle \\left\\lvert0001\\right\\rangle\\mathrm{transforms\\ to}: +0.5\\left\\lvert 1000\\right\\rangle -0.5\\left\\lvert 1001\\right\\rangle -0.5\\left\\lvert 1010\\right\\rangle +0.5\\left\\lvert 1011\\right\\rangle $"
      ],
      "text/plain": [
       "<IPython.core.display.Math object>"
      ]
     },
     "metadata": {},
     "output_type": "display_data"
    },
    {
     "data": {
      "text/latex": [
       "$\\displaystyle \\left\\lvert0010\\right\\rangle\\mathrm{transforms\\ to}: -0.5\\left\\lvert 0100\\right\\rangle -0.5\\left\\lvert 0101\\right\\rangle +0.5\\left\\lvert 0110\\right\\rangle +0.5\\left\\lvert 0111\\right\\rangle $"
      ],
      "text/plain": [
       "<IPython.core.display.Math object>"
      ]
     },
     "metadata": {},
     "output_type": "display_data"
    },
    {
     "data": {
      "text/latex": [
       "$\\displaystyle \\left\\lvert0011\\right\\rangle\\mathrm{transforms\\ to}: -0.5\\left\\lvert 1100\\right\\rangle +0.5\\left\\lvert 1101\\right\\rangle -0.5\\left\\lvert 1110\\right\\rangle +0.5\\left\\lvert 1111\\right\\rangle $"
      ],
      "text/plain": [
       "<IPython.core.display.Math object>"
      ]
     },
     "metadata": {},
     "output_type": "display_data"
    },
    {
     "data": {
      "text/latex": [
       "$\\displaystyle \\left\\lvert0100\\right\\rangle\\mathrm{transforms\\ to}: +0.5\\left\\lvert 0100\\right\\rangle +0.5\\left\\lvert 0101\\right\\rangle +0.5\\left\\lvert 0110\\right\\rangle +0.5\\left\\lvert 0111\\right\\rangle $"
      ],
      "text/plain": [
       "<IPython.core.display.Math object>"
      ]
     },
     "metadata": {},
     "output_type": "display_data"
    },
    {
     "data": {
      "text/latex": [
       "$\\displaystyle \\left\\lvert0101\\right\\rangle\\mathrm{transforms\\ to}: +0.5\\left\\lvert 1100\\right\\rangle -0.5\\left\\lvert 1101\\right\\rangle -0.5\\left\\lvert 1110\\right\\rangle +0.5\\left\\lvert 1111\\right\\rangle $"
      ],
      "text/plain": [
       "<IPython.core.display.Math object>"
      ]
     },
     "metadata": {},
     "output_type": "display_data"
    },
    {
     "data": {
      "text/latex": [
       "$\\displaystyle \\left\\lvert0110\\right\\rangle\\mathrm{transforms\\ to}: -0.5\\left\\lvert 0000\\right\\rangle -0.5\\left\\lvert 0001\\right\\rangle +0.5\\left\\lvert 0010\\right\\rangle +0.5\\left\\lvert 0011\\right\\rangle $"
      ],
      "text/plain": [
       "<IPython.core.display.Math object>"
      ]
     },
     "metadata": {},
     "output_type": "display_data"
    },
    {
     "data": {
      "text/latex": [
       "$\\displaystyle \\left\\lvert0111\\right\\rangle\\mathrm{transforms\\ to}: -0.5\\left\\lvert 1000\\right\\rangle +0.5\\left\\lvert 1001\\right\\rangle -0.5\\left\\lvert 1010\\right\\rangle +0.5\\left\\lvert 1011\\right\\rangle $"
      ],
      "text/plain": [
       "<IPython.core.display.Math object>"
      ]
     },
     "metadata": {},
     "output_type": "display_data"
    },
    {
     "data": {
      "text/latex": [
       "$\\displaystyle \\left\\lvert1000\\right\\rangle\\mathrm{transforms\\ to}: +0.5\\left\\lvert 1000\\right\\rangle +0.5\\left\\lvert 1001\\right\\rangle +0.5\\left\\lvert 1010\\right\\rangle +0.5\\left\\lvert 1011\\right\\rangle $"
      ],
      "text/plain": [
       "<IPython.core.display.Math object>"
      ]
     },
     "metadata": {},
     "output_type": "display_data"
    },
    {
     "data": {
      "text/latex": [
       "$\\displaystyle \\left\\lvert1001\\right\\rangle\\mathrm{transforms\\ to}: +0.5\\left\\lvert 0000\\right\\rangle -0.5\\left\\lvert 0001\\right\\rangle -0.5\\left\\lvert 0010\\right\\rangle +0.5\\left\\lvert 0011\\right\\rangle $"
      ],
      "text/plain": [
       "<IPython.core.display.Math object>"
      ]
     },
     "metadata": {},
     "output_type": "display_data"
    },
    {
     "data": {
      "text/latex": [
       "$\\displaystyle \\left\\lvert1010\\right\\rangle\\mathrm{transforms\\ to}: -0.5\\left\\lvert 1100\\right\\rangle -0.5\\left\\lvert 1101\\right\\rangle +0.5\\left\\lvert 1110\\right\\rangle +0.5\\left\\lvert 1111\\right\\rangle $"
      ],
      "text/plain": [
       "<IPython.core.display.Math object>"
      ]
     },
     "metadata": {},
     "output_type": "display_data"
    },
    {
     "data": {
      "text/latex": [
       "$\\displaystyle \\left\\lvert1011\\right\\rangle\\mathrm{transforms\\ to}: -0.5\\left\\lvert 0100\\right\\rangle +0.5\\left\\lvert 0101\\right\\rangle -0.5\\left\\lvert 0110\\right\\rangle +0.5\\left\\lvert 0111\\right\\rangle $"
      ],
      "text/plain": [
       "<IPython.core.display.Math object>"
      ]
     },
     "metadata": {},
     "output_type": "display_data"
    },
    {
     "data": {
      "text/latex": [
       "$\\displaystyle \\left\\lvert1100\\right\\rangle\\mathrm{transforms\\ to}: +0.5\\left\\lvert 1100\\right\\rangle +0.5\\left\\lvert 1101\\right\\rangle +0.5\\left\\lvert 1110\\right\\rangle +0.5\\left\\lvert 1111\\right\\rangle $"
      ],
      "text/plain": [
       "<IPython.core.display.Math object>"
      ]
     },
     "metadata": {},
     "output_type": "display_data"
    },
    {
     "data": {
      "text/latex": [
       "$\\displaystyle \\left\\lvert1101\\right\\rangle\\mathrm{transforms\\ to}: +0.5\\left\\lvert 0100\\right\\rangle -0.5\\left\\lvert 0101\\right\\rangle -0.5\\left\\lvert 0110\\right\\rangle +0.5\\left\\lvert 0111\\right\\rangle $"
      ],
      "text/plain": [
       "<IPython.core.display.Math object>"
      ]
     },
     "metadata": {},
     "output_type": "display_data"
    },
    {
     "data": {
      "text/latex": [
       "$\\displaystyle \\left\\lvert1110\\right\\rangle\\mathrm{transforms\\ to}: -0.5\\left\\lvert 1000\\right\\rangle -0.5\\left\\lvert 1001\\right\\rangle +0.5\\left\\lvert 1010\\right\\rangle +0.5\\left\\lvert 1011\\right\\rangle $"
      ],
      "text/plain": [
       "<IPython.core.display.Math object>"
      ]
     },
     "metadata": {},
     "output_type": "display_data"
    },
    {
     "data": {
      "text/latex": [
       "$\\displaystyle \\left\\lvert1111\\right\\rangle\\mathrm{transforms\\ to}: -0.5\\left\\lvert 0000\\right\\rangle +0.5\\left\\lvert 0001\\right\\rangle -0.5\\left\\lvert 0010\\right\\rangle +0.5\\left\\lvert 0011\\right\\rangle $"
      ],
      "text/plain": [
       "<IPython.core.display.Math object>"
      ]
     },
     "metadata": {},
     "output_type": "display_data"
    }
   ],
   "source": [
    "q = QuantumRegister(4)\n",
    "qc = QuantumCircuit(q)\n",
    "\n",
    "qc.cx(0,3)\n",
    "qc.cx(0,2)\n",
    "qc.cx(0,1)\n",
    "qc.ry(np.pi/2,0)\n",
    "qc.cx(1,2)\n",
    "qc.ry(np.pi/2,1)\n",
    "\n",
    "display(qc.draw(output='mpl'))\n",
    "run_circuit(qc,q)"
   ]
  },
  {
   "cell_type": "markdown",
   "metadata": {},
   "source": [
    "## Plain protocol <a class=\"anchor\" id=\"protocol\"></a>"
   ]
  },
  {
   "cell_type": "code",
   "execution_count": 9,
   "metadata": {},
   "outputs": [
    {
     "name": "stdout",
     "output_type": "stream",
     "text": [
      "dataA:  [1 0 0 1 0 0 0 0 0 0 0 0 0 1 0 1 1 0 1 1 1 1 1]\n",
      "dataB:  [1 0 0 1 0 0 0 0 0 0 0 0 0 1 0 1 1 0 1 1 1 1 1]\n",
      "dataC1: [1 0 0 1 0 0 0 0 0 0 0 0 0 1 0 1 1 0 1 1 1 1 1]\n",
      "dataC2: [1 0 0 1 0 0 0 0 0 0 0 0 0 1 0 1 1 0 1 1 1 1 1]\n"
     ]
    }
   ],
   "source": [
    "#0000\n",
    "basis0 = {'0000':0,'0001':0,'0010':0,'0011':0,\n",
    "          '1000':1,'1001':1,'1010':1,'1011':1,\n",
    "         '0100':2,'0101':2,'0110':2,'0111':2,\n",
    "         '1100':3,'1101':3,'1110':3,'1111':3}\n",
    "#1111\n",
    "basis1 = {'0000':0,'0100':0,'1000':0,'1100':0,\n",
    "          '0001':1,'0101':1,'1001':1,'1101':1,\n",
    "         '0011':2,'0111':2,'1011':2,'1111':2,\n",
    "         '0010':3,'0110':3,'1010':3,'1110':3}\n",
    "#0110\n",
    "basis2 = {'0000':0,'0001':0,'0100':0,'0101':0,\n",
    "          '1000':1,'1001':1,'1100':1,'1101':1,\n",
    "         '0010':2,'0011':2,'0110':2,'0111':2,\n",
    "         '1010':3,'1011':3,'1110':3,'1111':3}\n",
    "#1001\n",
    "basis3 = {'0000':0,'0011':0,'1000':0,'1011':0,\n",
    "          '0001':1,'0010':1,'1001':1,'1010':1,\n",
    "         '0100':2,'0111':2,'1100':2,'1111':2,\n",
    "         '0101':3,'0110':3,'1101':3,'1110':3}\n",
    "\n",
    "N = 100\n",
    "\n",
    "keyA = np.random.randint(2, size=N)\n",
    "keyB = np.random.randint(2, size=N)\n",
    "keyC1 = np.random.randint(2, size=N)\n",
    "keyC2 = np.random.randint(2, size=N)\n",
    "\n",
    "basisA = np.random.randint(2, size=N)\n",
    "basisB = np.random.randint(2, size=N)\n",
    "basisC1 = np.random.randint(2, size=N)\n",
    "basisC2 = np.random.randint(2, size=N)\n",
    "\n",
    "dataA = np.zeros(0, dtype=int)\n",
    "dataB = np.zeros(0, dtype=int)\n",
    "dataC1 = np.zeros(0, dtype=int)\n",
    "dataC2 = np.zeros(0, dtype=int)\n",
    "\n",
    "case = np.zeros(N)\n",
    "\n",
    "for i in range(N):\n",
    "\n",
    "    q = QuantumRegister(4,'p')\n",
    "    qm = QuantumRegister(4, 'm')\n",
    "    key = ClassicalRegister(4,'key')\n",
    "    cloning = QuantumRegister(2,'cloning')\n",
    "    infoE = ClassicalRegister(1, 'infoE')\n",
    "    qc = QuantumCircuit(q,qm,cloning,key,infoE)\n",
    "\n",
    "    #choose bases, bits\n",
    "    if(keyA[i] == 1):\n",
    "        qc.x(0)\n",
    "    if(keyB[i] == 1):\n",
    "        qc.x(1)\n",
    "    if(keyC1[i] == 1):\n",
    "        qc.x(2)\n",
    "    if(keyC2[i] == 1):\n",
    "        qc.x(3)\n",
    "    \n",
    "    if(basisA[i] == 1):\n",
    "        qc.ry(-np.pi/2,0)\n",
    "    if(basisB[i] == 1):\n",
    "        qc.ry(-np.pi/2,1)\n",
    "    if(basisC1[i] == 1):\n",
    "        qc.ry(-np.pi/2,2)\n",
    "    if(basisC2[i] == 1):\n",
    "        qc.ry(-np.pi/2,3)\n",
    "        \n",
    "    \n",
    "    qc.barrier(q,qm)\n",
    "\n",
    "    #swap to eve\n",
    "\n",
    "    #swap to m\n",
    "    qc.swap(0,4)\n",
    "    qc.swap(1,5)\n",
    "    qc.swap(2,6)\n",
    "    qc.swap(3,7)\n",
    "    qc.barrier(q,qm)\n",
    "\n",
    "\n",
    "    #prepare measurement\n",
    "    qc.cx(4,7)\n",
    "    qc.cx(4,6)\n",
    "    qc.cx(4,5)\n",
    "    qc.h(4)\n",
    "    qc.cx(5,6)\n",
    "    qc.h(5)\n",
    "\n",
    "    qc.barrier(qm)\n",
    "\n",
    "    #measurement\n",
    "    qc.measure(4,0)\n",
    "    qc.measure(5,1)\n",
    "    qc.measure(6,2)\n",
    "    qc.measure(7,3)\n",
    "    \n",
    "    job = execute(qc, backend=Aer.get_backend('qasm_simulator'), shots=1)\n",
    "    result = job.result()\n",
    "    counts = result.get_counts()\n",
    "    \n",
    "    k = list(counts.keys())[0]\n",
    "    k = k[2:6]\n",
    "    #k = ' '.join(k)\n",
    "    dataM = np.fromstring(k,sep=' ', dtype=int)\n",
    "    \n",
    "    if(basisA[i] == 0 and basisB[i] == 0 and basisC1[i] == 0 and basisC2[i] == 0):\n",
    "        case[i] = basis0[k]\n",
    "    elif(basisA[i] == 1 and basisB[i] == 1 and basisC1[i] == 1 and basisC2[i] == 1):\n",
    "        case[i] = basis1[k]\n",
    "    elif(basisA[i] == 0 and basisB[i] == 1 and basisC1[i] == 1 and basisC2[i] == 0):\n",
    "        case[i] = basis2[k]\n",
    "    elif(basisA[i] == 1 and basisB[i] == 0 and basisC1[i] == 0 and basisC2[i] == 1):\n",
    "        case[i] = basis3[k]\n",
    "    else:\n",
    "        case[i] = 4\n",
    "    \n",
    "    if(case[i] == 0):\n",
    "        if(keyC1[i]!=keyC2[i]):\n",
    "            keyC2[i] = 1 - keyC2[i]\n",
    "            keyA[i] = 1 - keyA[i]\n",
    "    elif(case[i] == 1):\n",
    "        if(keyC1[i]!=keyC2[i]):\n",
    "            keyC2[i] = 1 - keyC2[i]\n",
    "        else:\n",
    "            keyA[i] = 1 - keyA[i]\n",
    "    elif(case[i] == 2):\n",
    "        if(keyC1[i]!=keyC2[i]):\n",
    "            keyC1[i] = 1 - keyC1[i]\n",
    "        else:\n",
    "            keyB[i] = 1 - keyB[i]\n",
    "    elif(case[i] == 3):\n",
    "        if(keyC1[i]!=keyC2[i]):\n",
    "            keyB[i] = 1 - keyB[i]\n",
    "            keyC2[i] = 1 - keyC2[i]\n",
    "        else:\n",
    "            keyA[i] = 1 - keyA[i]\n",
    "            keyB[i] = 1 - keyB[i] \n",
    "\n",
    "    if(case[i]!=4):\n",
    "        dataA = np.append(dataA,keyA[i])\n",
    "        dataB = np.append(dataB,keyB[i])\n",
    "        dataC1 = np.append(dataC1,keyC1[i])\n",
    "        dataC2 = np.append(dataC2,keyC2[i])\n",
    "#cplot=qc.draw(output='mpl')\n",
    "#display(cplot)\n",
    "\n",
    "print('dataA: ', dataA)\n",
    "print('dataB: ', dataB)\n",
    "print('dataC1:', dataC1)\n",
    "print('dataC2:', dataC2)"
   ]
  },
  {
   "cell_type": "markdown",
   "metadata": {},
   "source": [
    "## Working protocol with Eavesdropper <a class=\"anchor\" id=\"eve\"></a>"
   ]
  },
  {
   "cell_type": "code",
   "execution_count": 19,
   "metadata": {},
   "outputs": [
    {
     "name": "stdout",
     "output_type": "stream",
     "text": [
      " bit A B  | result E |  result  C   | bitflip? \n",
      "--------------------------------------------------\n",
      "   - 0    |          |     [1 1]    |    \n",
      "   0 1    |          |     [1 0]    |    yes\n",
      "   + +    |    0     |     [0 1]    |    yes\n",
      "   - 1    |    0     |     [1 1]    |    \n",
      "   - +    |    -     |     [1 1]    |    yes\n",
      "   0 1    |    0     |     [1 0]    |    yes\n",
      "   + -    |          |     [1 1]    |    yes\n",
      "   0 -    |          |     [1 1]    |    \n",
      "   0 +    |          |     [0 0]    |    \n",
      "   0 +    |          |     [1 0]    |    \n",
      "   + -    |          |     [1 1]    |    yes\n",
      "   + +    |    0     |     [1 1]    |    yes\n",
      "   - +    |    -     |     [1 1]    |    yes\n",
      "   + 0    |          |     [0 0]    |    \n",
      "   0 1    |    0     |     [1 0]    |    yes\n",
      "   1 0    |    +     |     [1 1]    |    yes\n",
      "   - -    |    1     |     [0 1]    |    yes\n",
      "   0 0    |    +     |     [1 0]    |    yes\n",
      "   - 0    |    -     |     [1 0]    |    \n",
      "   0 0    |    0     |     [0 0]    |    no \n",
      "   1 -    |    1     |     [1 0]    |    \n",
      "   - 1    |          |     [0 1]    |    \n",
      "   1 +    |          |     [0 1]    |    \n",
      "   0 -    |    0     |     [1 1]    |    \n",
      "   0 +    |    -     |     [0 1]    |    \n",
      "   + 1    |    0     |     [1 0]    |    \n",
      "   0 0    |    0     |     [0 0]    |    no \n",
      "   + -    |    +     |     [1 1]    |    yes\n",
      "   + +    |    1     |     [0 1]    |    yes\n",
      "   + 1    |          |     [0 1]    |    \n",
      "   1 0    |          |     [1 0]    |    yes\n",
      "   + -    |    +     |     [1 1]    |    yes\n",
      "   1 -    |          |     [0 1]    |    \n",
      "   - 1    |          |     [0 1]    |    \n",
      "   0 1    |    +     |     [0 1]    |    no \n",
      "   - -    |          |     [1 0]    |    no \n",
      "   - -    |    -     |     [0 0]    |    no \n",
      "   0 -    |          |     [1 1]    |    \n",
      "   1 1    |          |     [0 1]    |    no \n",
      "   1 +    |          |     [1 1]    |    \n",
      "   - -    |    0     |     [1 0]    |    no \n",
      "   1 +    |    -     |     [1 1]    |    \n",
      "   - -    |          |     [0 0]    |    no \n",
      "   1 +    |    -     |     [1 1]    |    \n",
      "   - 0    |          |     [0 0]    |    \n",
      "   + +    |          |     [1 0]    |    no \n",
      "   + -    |          |     [0 1]    |    yes\n",
      "   1 1    |          |     [0 1]    |    no \n",
      "   0 -    |          |     [0 0]    |    \n",
      "   + -    |    +     |     [0 1]    |    yes\n",
      "   1 1    |          |     [0 0]    |    no \n",
      "   0 -    |          |     [0 1]    |    \n",
      "   - 0    |          |     [1 0]    |    \n",
      "   1 0    |    1     |     [1 0]    |    yes\n",
      "   + 1    |          |     [0 1]    |    \n",
      "   - +    |    1     |     [0 1]    |    yes\n",
      "   1 +    |          |     [1 1]    |    \n",
      "   0 +    |          |     [0 0]    |    \n",
      "   - -    |    1     |     [0 1]    |    yes\n",
      "   + 0    |          |     [0 0]    |    \n",
      "   1 1    |          |     [0 1]    |    no \n",
      "   0 -    |    +     |     [1 1]    |    \n",
      "   1 0    |          |     [1 0]    |    yes\n",
      "   1 0    |          |     [1 1]    |    yes\n",
      "   - 1    |          |     [0 0]    |    \n",
      "   0 +    |          |     [0 0]    |    \n",
      "   0 1    |          |     [1 1]    |    yes\n",
      "   1 1    |    -     |     [0 0]    |    no \n",
      "   1 1    |    1     |     [0 0]    |    no \n",
      "   + +    |    +     |     [0 0]    |    no \n",
      "   + +    |    +     |     [0 0]    |    no \n",
      "   + -    |          |     [0 1]    |    yes\n",
      "   1 1    |          |     [0 0]    |    no \n",
      "   1 -    |          |     [0 1]    |    \n",
      "   - 0    |          |     [1 1]    |    \n",
      "   - -    |    1     |     [0 0]    |    no \n",
      "   0 +    |          |     [1 1]    |    \n",
      "   - 1    |          |     [1 0]    |    \n",
      "   + -    |    +     |     [0 1]    |    yes\n",
      "   + 0    |          |     [0 0]    |    \n",
      "   0 +    |    0     |     [0 1]    |    \n",
      "   + -    |    0     |     [1 1]    |    yes\n",
      "   - -    |    -     |     [0 0]    |    no \n",
      "   + -    |    1     |     [1 0]    |    no \n",
      "   0 +    |          |     [1 1]    |    \n",
      "   - +    |    0     |     [0 0]    |    no \n",
      "   0 +    |          |     [0 1]    |    \n",
      "   - +    |          |     [1 1]    |    yes\n",
      "   + -    |    0     |     [1 0]    |    no \n",
      "   + -    |    +     |     [0 1]    |    yes\n",
      "   - +    |    1     |     [0 1]    |    yes\n",
      "   + -    |    +     |     [0 1]    |    yes\n",
      "   - -    |          |     [0 0]    |    no \n",
      "   - +    |          |     [1 1]    |    yes\n",
      "   + -    |          |     [1 1]    |    yes\n",
      "   - -    |    1     |     [0 1]    |    yes\n",
      "   1 0    |          |     [1 0]    |    yes\n",
      "   - +    |    -     |     [1 1]    |    yes\n",
      "   0 +    |    0     |     [1 1]    |    \n",
      "   0 -    |          |     [1 0]    |    \n",
      "QBER: 18%\n"
     ]
    }
   ],
   "source": [
    "#Code with Eve\n",
    "N = 100\n",
    "chanceE = 0.5   # Chance Eve drops (1 = 100%)\n",
    "print_table = True\n",
    "\n",
    "# Setup\n",
    "basisA = np.random.randint(2, size=N)   # 0 means 0/1 basis, 1 means +/-\n",
    "basisB = np.random.randint(2, size=N)\n",
    "basisE = np.random.choice([0,1,2], p=[0.5*chanceE, 0.5*chanceE, 1-chanceE], size=N)\n",
    "\n",
    "dataA = np.random.randint(2, size=N)\n",
    "dataB = np.random.randint(2, size=N)\n",
    "dataC = np.zeros((2,N), dtype=int)\n",
    "dataE = np.zeros(N, dtype=int)\n",
    "\n",
    "A = QuantumRegister(1, name = 'alice')\n",
    "B = QuantumRegister(1, name = 'bob')\n",
    "C = QuantumRegister(2, name = 'charlie')\n",
    "E = QuantumRegister(1, 'eve')\n",
    "cr = ClassicalRegister(2, name = 'c')\n",
    "infoE = ClassicalRegister(1, \"infoEve\")\n",
    "\n",
    "keyA = np.zeros(N, dtype=int)\n",
    "keyB = np.zeros(N, dtype=int)\n",
    "M = 0  # counter for key\n",
    "\n",
    "if print_table:\n",
    "    print(' bit A B  | result E |  result  C   | bitflip? ')\n",
    "    print('--------------------------------------------------')\n",
    "\n",
    "# Build and run the circuits\n",
    "for i in range(N):\n",
    "    circuit = QuantumCircuit(A, B, C, E, cr, infoE)\n",
    "    if(dataA[i] == 1):    \n",
    "        circuit.x(A)\n",
    "    if(dataB[i] == 1):    \n",
    "        circuit.x(B)\n",
    "    if(basisA[i] == 1):    \n",
    "        circuit.ry(np.pi/2,0)\n",
    "    if(basisB[i] == 1):    \n",
    "        circuit.ry(np.pi/2,1)\n",
    "    \n",
    "    # Eve drops (or doesnt)\n",
    "    circuit.barrier(A,B,C,E)\n",
    "    if basisE[i] == 0:\n",
    "        circuit.swap(A[0], E[0])\n",
    "        circuit.measure(E[0], infoE[0])\n",
    "        circuit.swap(A[0], E[0])\n",
    "    elif basisE[i] == 1:\n",
    "        circuit.swap(A[0], E[0])\n",
    "        circuit.ry(-np.pi/2, E[0])\n",
    "        circuit.measure(E[0], infoE[0])\n",
    "        circuit.ry(np.pi/2, E[0])\n",
    "        circuit.swap(A[0], E[0])\n",
    "    circuit.barrier(A,B,C,E)\n",
    "    \n",
    "    circuit.swap(A,C[0])\n",
    "    circuit.swap(B,C[1])\n",
    "    \n",
    "    # Charlie performs BSM\n",
    "    circuit.cx(C[0],C[1])\n",
    "    circuit.ry(-np.pi/2, C[0])\n",
    "    circuit.measure(C[0],cr[0])\n",
    "    circuit.measure(C[1],cr[1])\n",
    "    \n",
    "    # Run circuit\n",
    "    backend = BasicAer.get_backend('qasm_simulator')\n",
    "    shots = 1\n",
    "    results = execute(circuit, backend=backend, shots=shots).result()\n",
    "    counts = results.get_counts()\n",
    "    k = list(counts.keys())[0]\n",
    "    k = ' '.join(k)\n",
    "    data = np.fromstring(k,sep=' ', dtype=int)\n",
    "    dataE[i] = data[0]\n",
    "    dataC[:,i] = data[1:]\n",
    "    \n",
    "    # Do bit flip if necessary\n",
    "    bitflip = ''\n",
    "    if basisA[i] == basisB[i]: \n",
    "        keyA[M] = dataA[i]\n",
    "        keyB[M] = dataB[i]\n",
    "        bitflip = 'no '\n",
    "        if basisA[i] == 0 and (list(dataC[:,i]) == [1,0] or list(dataC[:,i]) == [1,1]):\n",
    "            bitflip = 'yes'\n",
    "            keyB[M] = 1-keyB[M]\n",
    "        if basisA[i] == 1 and (list(dataC[:,i]) == [0,1] or list(dataC[:,i]) == [1,1]):\n",
    "            bitflip = 'yes'\n",
    "            keyB[M] = 1-keyB[M]\n",
    "        M += 1\n",
    "            \n",
    "    bitA = give_bit(basisA[i], dataA[i])\n",
    "    bitB = give_bit(basisB[i], dataB[i])\n",
    "    bitE = give_bit(basisE[i], dataE[i])\n",
    "\n",
    "    if print_table: \n",
    "        print('   {0} {1}    |    {2}     |     {3}    |    {4}'.format(bitA, bitB, bitE, dataC[:,i], bitflip))\n",
    "    else:\n",
    "        # Show progress \n",
    "        print('Currently at: {0}/{1}  :  {2}%'.format(i+1, N, int(float((i+1))*100/N)))\n",
    "        clear_output(wait=True)\n",
    "\n",
    "keyA = keyA[0:M]\n",
    "keyB = keyB[0:M]\n",
    "QBER = np.sum(keyA != keyB)\n",
    "print('QBER: {0}%'.format(int(QBER/M*100)))\n"
   ]
  },
  {
   "cell_type": "markdown",
   "metadata": {
    "hide_input": false
   },
   "source": [
    "## Protocol on NV with Noise <a class=\"anchor\" id=\"noise\"></a>\n",
    "\n",
    "Below the circuit is implemented with noise. A simplification is made by letting Charlie keep their bits and letting all others send theirs to Charlie. This drastically reduces the amount noise due to electron-photon interaction and due to relaxation."
   ]
  },
  {
   "cell_type": "code",
   "execution_count": 37,
   "metadata": {
    "hide_input": false
   },
   "outputs": [
    {
     "name": "stdout",
     "output_type": "stream",
     "text": [
      "0.6253\n"
     ]
    },
    {
     "data": {
      "image/png": "[encoded data removed]",
      "text/plain": [
       "<Figure size 1748.21x1529.08 with 1 Axes>"
      ]
     },
     "metadata": {},
     "output_type": "display_data"
    }
   ],
   "source": [
    "possibilities = [(0,0,0),(0,0,1),(0,1,0),(0,1,1),(1,0,0),(1,0,1),(1,1,0),(1,1,1),\n",
    "                (2,2,2),(2,2,3),(2,3,2),(2,3,3),(3,2,2),(3,2,3),(3,3,2),(3,3,3),]\n",
    "\n",
    "noises_n = [np.linspace(0,0.063,5), 0.063, 0.063, 0.063, 0.063, 0.063]\n",
    "noises_e = [0.201, np.linspace(0,0.201,5), 0.201, 0.201, 0.201, 0.201]\n",
    "noises_l = [0.05, 0.05, np.linspace(0,0.05,5), 0.05, 0.05, 0.05]\n",
    "noises_depo = [0.02, 0.02, 0.02, np.linspace(0,0.02,5), 0.02, 0.02]\n",
    "noises_deph = [0.01, 0.01, 0.01, 0.01, np.linspace(0,0.01,5), 0.01]\n",
    "noises_meas = [0.05, 0.05, 0.05, 0.05, 0.05, np.linspace(0,0.05,5)]\n",
    "\n",
    "results = [[[[None for i in range(20)] for k in range(5)] for l in range(16)] for m in range(6)]\n",
    "\n",
    "for noise_type in range(6):\n",
    "    for i, p in enumerate(possibilities):\n",
    "\n",
    "        # Create the circuit\n",
    "        # Registers for Alice, Bob and two for Charlie\n",
    "        An = QuantumRegister(1, 'alice-n')\n",
    "        Ae = QuantumRegister(1, 'alice-e')\n",
    "        Bn = QuantumRegister(1, 'bob-n')\n",
    "        Be = QuantumRegister(1, 'bob-e')\n",
    "        Cn = QuantumRegister(4, 'charlie-n')\n",
    "        Ce = QuantumRegister(1, 'charlie-e')\n",
    "\n",
    "        # Communication lines via photons\n",
    "        Ap = QuantumRegister(1, 'alice-photon')\n",
    "        Bp = QuantumRegister(1, 'bob-photon')\n",
    "        #raw key\n",
    "        Mc = ClassicalRegister(4, 'raw key')\n",
    "\n",
    "        #control lines for the attenuation\n",
    "        control = QuantumRegister(2,'qcontrol')\n",
    "        initA = ClassicalRegister(1,'ccontrolA')\n",
    "        initB = ClassicalRegister(1,'ccontrolB')\n",
    "\n",
    "\n",
    "        qc = QuantumCircuit(An, Ae, Bn, Be, Cn, Ce, Ap, Bp, Mc, control, initA, initB)\n",
    "\n",
    "        build_circuit(p[0],p[1],p[2])\n",
    "        \n",
    "        theta_val = 2*np.arccos(np.exp(-length/(2*att_length)))\n",
    "\n",
    "        number_picks = 20\n",
    "        N = 100\n",
    "\n",
    "        backend = Aer.get_backend('qasm_simulator')\n",
    "        for noise in range(5):\n",
    "            for randpick in range(number_picks):\n",
    "                # Choose a random noise for the carbon and electron gates\n",
    "                if(noise_type == 0):\n",
    "                    n0 = np.random.normal(scale=noises_n[noise_type][noise])\n",
    "                    n1 = np.random.normal(scale=noises_n[noise_type][noise])\n",
    "                    nh1 = np.random.normal(scale=noises_n[noise_type][noise])\n",
    "                    nh2 = np.random.normal(scale=noises_n[noise_type][noise])\n",
    "                else:\n",
    "                    n0 = np.random.normal(scale=noises_n[noise_type])\n",
    "                    n1 = np.random.normal(scale=noises_n[noise_type])\n",
    "                    nh1 = np.random.normal(scale=noises_n[noise_type])\n",
    "                    nh2 = np.random.normal(scale=noises_n[noise_type])\n",
    "\n",
    "                if(noise_type == 1):\n",
    "                    e0 = np.random.normal(scale=noises_e[noise_type][noise])\n",
    "                else:\n",
    "                    e0 = np.random.normal(scale=noises_e[noise_type])\n",
    "\n",
    "                noisemodel = NoiseModel()\n",
    "                if(noise_type == 3):\n",
    "                    depo = errors.depolarizing_error(noises_depo[noise_type][noise], 1)\n",
    "                else:\n",
    "                    depo = errors.depolarizing_error(noises_depo[noise_type], 1)\n",
    "\n",
    "                if(noise_type == 2):\n",
    "                    theta_val = 2*np.arccos(np.exp(-noises_l[noise_type][noise]/(2*att_length)))\n",
    "                else:\n",
    "                    theta_val = 2*np.arccos(np.exp(-noises_l[noise_type]/(2*att_length)))\n",
    "\n",
    "                if(noise_type == 4):\n",
    "                    deph = errors.phase_damping_error(noises_deph[noise_type][noise],1)\n",
    "                else:\n",
    "                    deph = errors.phase_damping_error(noises_deph[noise_type],1)\n",
    "\n",
    "                if(noise_type == 5):\n",
    "                    depo_meas = errors.depolarizing_error(noises_meas[noise_type][noise], 1)\n",
    "                else:\n",
    "                    depo_meas = errors.depolarizing_error(noises_meas[noise_type], 1)\n",
    "\n",
    "                noisemodel = NoiseModel()\n",
    "                noisemodel.add_all_qubit_quantum_error(depo,'Cswap')\n",
    "                noisemodel.add_all_qubit_quantum_error(deph,'eswap')\n",
    "                noisemodel.add_all_qubit_quantum_error(meas,'meas')\n",
    "\n",
    "                if(p[0] == 0):\n",
    "                    if(p[1] == 0):\n",
    "                        if(p[2] == 0):\n",
    "                            circuit = qc.bind_parameters({pi_par: np.pi, noise_h1: nh1, noise_h2: nh2,\n",
    "                                              theta_An:theta_val, theta_Bn:theta_val})\n",
    "                        else:\n",
    "                            circuit = qc.bind_parameters({pi_par: np.pi, noise_Cn1: nC1, noise_Cn2: nC2,\n",
    "                                              noise_h1: nh1, noise_h2: nh2,\n",
    "                                              theta_An:theta_val, theta_Bn:theta_val})\n",
    "                    else:\n",
    "                        if(p[2] == 0):\n",
    "                            circuit = qc.bind_parameters({pi_par: np.pi, noise_Bn: nB,\n",
    "                                              noise_h1: nh1, noise_h2: nh2,\n",
    "                                              theta_An:theta_val, theta_Bn:theta_val})\n",
    "                        else:\n",
    "                            circuit = qc.bind_parameters({pi_par: np.pi, noise_Bn: nB, noise_Cn1: nC1, noise_Cn2: nC2,\n",
    "                                              noise_h1: nh1, noise_h2: nh2,\n",
    "                                              theta_An:theta_val, theta_Bn:theta_val})\n",
    "                else:\n",
    "                    if(p[1] == 0):\n",
    "                        if(p[2] == 0):\n",
    "                            circuit = qc.bind_parameters({pi_par: np.pi, noise_h1: nh1, noise_h2: nh2, noise_An: nA,\n",
    "                                              theta_An:theta_val, theta_Bn:theta_val})\n",
    "                        else:\n",
    "                            circuit = qc.bind_parameters({pi_par: np.pi, noise_An: nA, noise_Cn1: nC1, noise_Cn2: nC2,\n",
    "                                              noise_h1: nh1, noise_h2: nh2,\n",
    "                                              theta_An:theta_val, theta_Bn:theta_val})\n",
    "                    else:\n",
    "                        if(p[2] == 0):\n",
    "                            circuit = qc.bind_parameters({pi_par: np.pi, noise_An: nA, noise_Bn: nB,\n",
    "                                              noise_h1: nh1, noise_h2: nh2,\n",
    "                                              theta_An:theta_val, theta_Bn:theta_val})\n",
    "                        else:\n",
    "                            circuit = qc.bind_parameters({pi_par: np.pi, noise_An: nA, noise_Bn: nB, noise_Cn1: nC1, noise_Cn2: nC2,\n",
    "                                              noise_h1: nh1, noise_h2: nh2,\n",
    "                                              theta_An:theta_val, theta_Bn:theta_val})\n",
    "\n",
    "                # Execute the circuit and save the qber\n",
    "                job = execute(circuit, backend=backend, shots=N, noise_model=noisemodel)\n",
    "                result = job.result()\n",
    "                counts = result.get_counts()\n",
    "\n",
    "                results[noise_type][i][noise][randpick] = counts\n",
    "\n",
    "                # Show progress \n",
    "                print('Currently at: {0}/{1}'.format(randpick+1+20*(i+5*(noise+6*noise_type)), 3720))\n",
    "                clear_output(wait=True)\n",
    "\n",
    "    "
   ]
  },
  {
   "cell_type": "markdown",
   "metadata": {
    "hide_input": false,
    "scrolled": false
   },
   "source": [
    "Get the results without noise to compare"
   ]
  },
  {
   "cell_type": "code",
   "execution_count": null,
   "metadata": {},
   "outputs": [],
   "source": [
    "result_noiseless = [None]*16\n",
    "for i, p in enumerate(possibilities):\n",
    "    # Create the circuit\n",
    "    # Registers for Alice, Bob and two for Charlie\n",
    "    An = QuantumRegister(1, 'alice-n')\n",
    "    Ae = QuantumRegister(1, 'alice-e')\n",
    "    Bn = QuantumRegister(1, 'bob-n')\n",
    "    Be = QuantumRegister(1, 'bob-e')\n",
    "    Cn1 = QuantumRegister(1, 'charlie-n-1')\n",
    "    Ce1 = QuantumRegister(1, 'charlie-e-1')\n",
    "    Cn2 = QuantumRegister(1, 'charlie-n-2')\n",
    "    Ce2 = QuantumRegister(1, 'charlie-e-2')\n",
    "    # Communication lines via photons\n",
    "    Ap = QuantumRegister(1, 'alice-photon')\n",
    "    Bp = QuantumRegister(1, 'bob-photon')\n",
    "    Cp1 = QuantumRegister(1, 'charlie-photon-1')\n",
    "    Cp2 = QuantumRegister(1, 'charlie-photon-2')\n",
    "    # Classical and quantum register for the central measurer\n",
    "    Me = QuantumRegister(1, 'e-central-measurer')\n",
    "    Mn = QuantumRegister(4, 'n-centeral-measurer')\n",
    "    Mc = ClassicalRegister(4, 'raw key')\n",
    "\n",
    "    #control lines for the attenuation\n",
    "    control = QuantumRegister(4,'qcontrol')\n",
    "    initA = ClassicalRegister(1,'ccontrolA')\n",
    "    initB = ClassicalRegister(1,'ccontrolB')\n",
    "    initC1 = ClassicalRegister(1,'ccontrolC1')\n",
    "    initC2 = ClassicalRegister(1,'ccontrolC2')\n",
    "\n",
    "\n",
    "    qc = QuantumCircuit(An, Ae, Bn, Be, Cn, Ce, Ap, Bp, Mc, control, initA, initB)\n",
    "    \n",
    "    \n",
    "    \n",
    "    build_circuit(p[0],p[1],p[2])\n",
    "    noise_n = 0   # The 1-sigmas that will be used on carbon gates\n",
    "    noise_e = 0   # The 1-sigmas that will be used on electron gates\n",
    "    att_length = 0.542\n",
    "    length = 0\n",
    "    theta_val = 2*np.arccos(np.exp(-length/(2*att_length)))\n",
    "    nA = 0\n",
    "    nB = 0\n",
    "    nC1 = 0\n",
    "    nC2 = 0\n",
    "    nh1 = 0\n",
    "    nh2 = 0\n",
    "\n",
    "\n",
    "    number_picks = 1\n",
    "    N = 100\n",
    "\n",
    "    backend = Aer.get_backend('qasm_simulator')\n",
    "    \n",
    "    if(p[0] == 0):\n",
    "        if(p[1] == 0):\n",
    "            if(p[2] == 0):\n",
    "                circuit = qc.bind_parameters({pi_par: np.pi, noise_h1: 0, noise_h2: 0,\n",
    "                                  theta_An:theta_val, theta_Bn:theta_val})\n",
    "            else:\n",
    "                circuit = qc.bind_parameters({pi_par: np.pi, noise_Cn1: nC1, noise_Cn2: nC2,\n",
    "                                  noise_h1: nh1, noise_h2: nh2,\n",
    "                                  theta_An:theta_val, theta_Bn:theta_val})\n",
    "        else:\n",
    "            if(p[2] == 0):\n",
    "                circuit = qc.bind_parameters({pi_par: np.pi, noise_Bn: nB,\n",
    "                                  noise_h1: nh1, noise_h2: nh2,\n",
    "                                  theta_An:theta_val, theta_Bn:theta_val})\n",
    "            else:\n",
    "                circuit = qc.bind_parameters({pi_par: np.pi, noise_Bn: nB, noise_Cn1: nC1, noise_Cn2: nC2,\n",
    "                                  noise_h1: nh1, noise_h2: nh2,\n",
    "                                  theta_An:theta_val, theta_Bn:theta_val})\n",
    "    else:\n",
    "        if(p[1] == 0):\n",
    "            if(p[2] == 0):\n",
    "                circuit = qc.bind_parameters({pi_par: np.pi, noise_h1: nh1, noise_h2: nh2, noise_An: nA,\n",
    "                                  theta_An:theta_val, theta_Bn:theta_val})\n",
    "            else:\n",
    "                circuit = qc.bind_parameters({pi_par: np.pi, noise_An: nA, noise_Cn1: nC1, noise_Cn2: nC2,\n",
    "                                  noise_h1: nh1, noise_h2: nh2,\n",
    "                                  theta_An:theta_val, theta_Bn:theta_val})\n",
    "        else:\n",
    "            if(p[2] == 0):\n",
    "                circuit = qc.bind_parameters({pi_par: np.pi, noise_An: nA, noise_Bn: nB,\n",
    "                                  noise_h1: nh1, noise_h2: nh2,\n",
    "                                  theta_An:theta_val, theta_Bn:theta_val})\n",
    "            else:\n",
    "                circuit = qc.bind_parameters({pi_par: np.pi, noise_An: nA, noise_Bn: nB, noise_Cn1: nC1, noise_Cn2: nC2,\n",
    "                                  noise_h1: nh1, noise_h2: nh2,\n",
    "                                  theta_An:theta_val, theta_Bn:theta_val})\n",
    "                    \n",
    "    job = execute(circuit, backend=backend, shots=N)\n",
    "    result = job.result()\n",
    "    counts = result.get_counts()\n",
    "\n",
    "    result_noiseless[i] = counts\n"
   ]
  },
  {
   "cell_type": "code",
   "execution_count": 1,
   "metadata": {},
   "outputs": [
    {
     "ename": "NameError",
     "evalue": "name 'qbernon' is not defined",
     "output_type": "error",
     "traceback": [
      "\u001b[1;31m---------------------------------------------------------------------------\u001b[0m",
      "\u001b[1;31mNameError\u001b[0m                                 Traceback (most recent call last)",
      "\u001b[1;32m<ipython-input-1-956bad44c0e5>\u001b[0m in \u001b[0;36m<module>\u001b[1;34m\u001b[0m\n\u001b[0;32m      4\u001b[0m     \u001b[1;32mfor\u001b[0m \u001b[0mk\u001b[0m \u001b[1;32min\u001b[0m \u001b[0mrange\u001b[0m\u001b[1;33m(\u001b[0m\u001b[1;36m5\u001b[0m\u001b[1;33m)\u001b[0m\u001b[1;33m:\u001b[0m\u001b[1;33m\u001b[0m\u001b[1;33m\u001b[0m\u001b[0m\n\u001b[0;32m      5\u001b[0m         \u001b[1;32mfor\u001b[0m \u001b[0mi\u001b[0m \u001b[1;32min\u001b[0m \u001b[0mrange\u001b[0m\u001b[1;33m(\u001b[0m\u001b[1;36m16\u001b[0m\u001b[1;33m)\u001b[0m\u001b[1;33m:\u001b[0m\u001b[1;33m\u001b[0m\u001b[1;33m\u001b[0m\u001b[0m\n\u001b[1;32m----> 6\u001b[1;33m             \u001b[0mqbernon\u001b[0m\u001b[1;33m[\u001b[0m\u001b[0mi\u001b[0m\u001b[1;33m]\u001b[0m \u001b[1;33m=\u001b[0m \u001b[1;36m0\u001b[0m\u001b[1;33m\u001b[0m\u001b[1;33m\u001b[0m\u001b[0m\n\u001b[0m\u001b[0;32m      7\u001b[0m             \u001b[0mkeys\u001b[0m \u001b[1;33m=\u001b[0m \u001b[0mlist\u001b[0m\u001b[1;33m(\u001b[0m\u001b[0mresult_noiseless\u001b[0m\u001b[1;33m[\u001b[0m\u001b[0mi\u001b[0m\u001b[1;33m]\u001b[0m\u001b[1;33m.\u001b[0m\u001b[0mkeys\u001b[0m\u001b[1;33m(\u001b[0m\u001b[1;33m)\u001b[0m\u001b[1;33m)\u001b[0m\u001b[1;33m\u001b[0m\u001b[1;33m\u001b[0m\u001b[0m\n\u001b[0;32m      8\u001b[0m             \u001b[1;32mfor\u001b[0m \u001b[0mr\u001b[0m \u001b[1;32min\u001b[0m \u001b[0mrange\u001b[0m\u001b[1;33m(\u001b[0m\u001b[1;36m20\u001b[0m\u001b[1;33m)\u001b[0m\u001b[1;33m:\u001b[0m\u001b[1;33m\u001b[0m\u001b[1;33m\u001b[0m\u001b[0m\n",
      "\u001b[1;31mNameError\u001b[0m: name 'qbernon' is not defined"
     ]
    }
   ],
   "source": [
    "qber = [[0 for i in range(5)] for k in range(6)]\n",
    "\n",
    "for nt in range(6):\n",
    "    for k in range(5):\n",
    "        for i in range(16):\n",
    "            qbernon[i] = 0\n",
    "            keys = list(result_noiseless[i].keys())\n",
    "            for r in range(20):\n",
    "                for s in strings:\n",
    "                    try:\n",
    "                        qbernon[i] += results[nt][i][k][r][s+str(keys[0])[3:]]\n",
    "                    except:pass\n",
    "                    try:\n",
    "                        qbernon[i] += results[nt][i][k][r][s+str(keys[1])[3:]]\n",
    "                    except:pass\n",
    "                    try:\n",
    "                        qbernon[i] += results[nt][i][k][r][s+str(keys[2])[3:]]\n",
    "                    except:pass\n",
    "                    try:\n",
    "                        qbernon[i] += results[nt][i][k][r][s+str(keys[3])[3:]]\n",
    "                    except:pass\n",
    "        #         print(results[0][i][k][r])\n",
    "        qber[nt][k] = 1-(np.mean(qbernon))/2000\n",
    "\n",
    "labels = ['Carbon', 'electron', 'length', 'depolarizing carbon-electron', 'dephasing electron-photon', 'depolarizing measurement']\n",
    "\n",
    "for i, l in enumerate(labels):\n",
    "    plt.plot(np.linspace(0,1,5),qber[i],ls='--',label=l)\n",
    "\n",
    "\n",
    "#ax.plot(np.mean(noises[index],axis=0), linewidth=3.0,label='avg')\n",
    "plt.ylabel('qber')\n",
    "plt.xlabel('fraction of default parameter')\n",
    "plt.legend()"
   ]
  },
  {
   "cell_type": "code",
   "execution_count": null,
   "metadata": {},
   "outputs": [],
   "source": []
  }
 ],
 "metadata": {
  "kernelspec": {
   "display_name": "Python 3",
   "language": "python",
   "name": "python3"
  },
  "language_info": {
   "codemirror_mode": {
    "name": "ipython",
    "version": 3
   },
   "file_extension": ".py",
   "mimetype": "text/x-python",
   "name": "python",
   "nbconvert_exporter": "python",
   "pygments_lexer": "ipython3",
   "version": "3.7.3"
  }
 },
 "nbformat": 4,
 "nbformat_minor": 2
}
